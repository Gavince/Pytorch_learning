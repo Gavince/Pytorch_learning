{
 "cells": [
  {
   "cell_type": "code",
   "execution_count": 1,
   "metadata": {},
   "outputs": [
    {
     "name": "stdout",
     "output_type": "stream",
     "text": [
      "\u001b[01;34mdata/dogcat/\u001b[00m\r\n",
      "├── \u001b[01;35mcat.12484.jpg\u001b[00m\r\n",
      "├── \u001b[01;35mcat.12485.jpg\u001b[00m\r\n",
      "├── \u001b[01;35mcat.12486.jpg\u001b[00m\r\n",
      "├── \u001b[01;35mcat.12487.jpg\u001b[00m\r\n",
      "├── \u001b[01;35mdog.12496.jpg\u001b[00m\r\n",
      "├── \u001b[01;35mdog.12497.jpg\u001b[00m\r\n",
      "├── \u001b[01;35mdog.12498.jpg\u001b[00m\r\n",
      "└── \u001b[01;35mdog.12499.jpg\u001b[00m\r\n",
      "\r\n",
      "0 directories, 8 files\r\n"
     ]
    }
   ],
   "source": [
    "!tree data/dogcat/"
   ]
  },
  {
   "cell_type": "code",
   "execution_count": 20,
   "metadata": {},
   "outputs": [],
   "source": [
    "import torch as t\n",
    "from torch.utils import data"
   ]
  },
  {
   "cell_type": "code",
   "execution_count": 23,
   "metadata": {},
   "outputs": [],
   "source": [
    "import os \n",
    "from PIL import Image\n",
    "import numpy as np\n",
    "from torchvision import transforms as T\n",
    "transform = T.Compose([\n",
    "        T.Resize(224),\n",
    "        T.CenterCrop(224),\n",
    "        T.ToTensor(),\n",
    "        T.Normalize(mean=[.5, .5, .5], std=[.5, .5, .5])\n",
    "])\n",
    "\n",
    "class DogCat(data.Dataset):\n",
    "    \n",
    "    def __init__(self, root, transform = None):\n",
    "        super(DogCat, self).__init__()\n",
    "        \n",
    "        imgs = os.listdir(root)\n",
    "        self.imgs = [os.path.join(root, img) for img in imgs]\n",
    "        self.transforms = transform\n",
    "        \n",
    "    def __getitem__(self, index):\n",
    "        img_path = self.imgs[index]\n",
    "        \n",
    "        #打标签\n",
    "        label = 1 if 'dog' in img_path.split('/')[-1] else 0\n",
    "        \n",
    "        data = Image.open(img_path)\n",
    "        if self.transforms:\n",
    "            data = self.transforms(data)\n",
    "#         array = np.asanyarray(pil_img)\n",
    "#         data = t.from_numpy(array)\n",
    "        \n",
    "        return data, label\n",
    "    \n",
    "    def __len__(self):\n",
    "        \n",
    "        return len(self.imgs)"
   ]
  },
  {
   "cell_type": "code",
   "execution_count": 27,
   "metadata": {},
   "outputs": [
    {
     "name": "stdout",
     "output_type": "stream",
     "text": [
      "torch.Size([3, 224, 224]) 0\n",
      "torch.Size([3, 224, 224]) 1\n",
      "torch.Size([3, 224, 224]) 0\n",
      "torch.Size([3, 224, 224]) 0\n",
      "torch.Size([3, 224, 224]) 1\n",
      "torch.Size([3, 224, 224]) 0\n",
      "torch.Size([3, 224, 224]) 1\n",
      "torch.Size([3, 224, 224]) 1\n",
      "Length =  8\n"
     ]
    }
   ],
   "source": [
    "dataset = DogCat('data/dogcat/', transform=transform)\n",
    "data, label = dataset[0]\n",
    "for data, label in dataset:\n",
    "    print(data.size(), label)\n",
    "print(\"Length = \", len(dataset))"
   ]
  },
  {
   "cell_type": "code",
   "execution_count": 28,
   "metadata": {},
   "outputs": [
    {
     "name": "stdout",
     "output_type": "stream",
     "text": [
      "\u001b[01;34mdata/dogcat_2/\u001b[00m\r\n",
      "├── \u001b[01;34mcat\u001b[00m\r\n",
      "│   ├── \u001b[01;35mcat.12484.jpg\u001b[00m\r\n",
      "│   ├── \u001b[01;35mcat.12485.jpg\u001b[00m\r\n",
      "│   ├── \u001b[01;35mcat.12486.jpg\u001b[00m\r\n",
      "│   └── \u001b[01;35mcat.12487.jpg\u001b[00m\r\n",
      "└── \u001b[01;34mdog\u001b[00m\r\n",
      "    ├── \u001b[01;35mdog.12496.jpg\u001b[00m\r\n",
      "    ├── \u001b[01;35mdog.12497.jpg\u001b[00m\r\n",
      "    ├── \u001b[01;35mdog.12498.jpg\u001b[00m\r\n",
      "    └── \u001b[01;35mdog.12499.jpg\u001b[00m\r\n",
      "\r\n",
      "2 directories, 8 files\r\n"
     ]
    }
   ],
   "source": [
    "!tree data/dogcat_2/"
   ]
  },
  {
   "cell_type": "code",
   "execution_count": 39,
   "metadata": {},
   "outputs": [
    {
     "data": {
      "text/plain": [
       "[('data/dogcat_2/cat/cat.12484.jpg', 0),\n",
       " ('data/dogcat_2/cat/cat.12485.jpg', 0),\n",
       " ('data/dogcat_2/cat/cat.12486.jpg', 0),\n",
       " ('data/dogcat_2/cat/cat.12487.jpg', 0),\n",
       " ('data/dogcat_2/dog/dog.12496.jpg', 1),\n",
       " ('data/dogcat_2/dog/dog.12497.jpg', 1),\n",
       " ('data/dogcat_2/dog/dog.12498.jpg', 1),\n",
       " ('data/dogcat_2/dog/dog.12499.jpg', 1)]"
      ]
     },
     "execution_count": 39,
     "metadata": {},
     "output_type": "execute_result"
    }
   ],
   "source": [
    "from torchvision.datasets import ImageFolder\n",
    "dataset = ImageFolder(\"data/dogcat_2/\")\n",
    "dataset.imgs"
   ]
  },
  {
   "cell_type": "code",
   "execution_count": null,
   "metadata": {},
   "outputs": [],
   "source": []
  },
  {
   "cell_type": "code",
   "execution_count": null,
   "metadata": {},
   "outputs": [],
   "source": []
  },
  {
   "cell_type": "code",
   "execution_count": null,
   "metadata": {},
   "outputs": [],
   "source": []
  },
  {
   "cell_type": "code",
   "execution_count": null,
   "metadata": {},
   "outputs": [],
   "source": []
  },
  {
   "cell_type": "code",
   "execution_count": null,
   "metadata": {},
   "outputs": [],
   "source": []
  },
  {
   "cell_type": "code",
   "execution_count": null,
   "metadata": {},
   "outputs": [],
   "source": []
  },
  {
   "cell_type": "code",
   "execution_count": null,
   "metadata": {},
   "outputs": [],
   "source": []
  },
  {
   "cell_type": "code",
   "execution_count": null,
   "metadata": {},
   "outputs": [],
   "source": []
  },
  {
   "cell_type": "code",
   "execution_count": null,
   "metadata": {},
   "outputs": [],
   "source": []
  },
  {
   "cell_type": "code",
   "execution_count": null,
   "metadata": {},
   "outputs": [],
   "source": []
  },
  {
   "cell_type": "code",
   "execution_count": null,
   "metadata": {},
   "outputs": [],
   "source": []
  },
  {
   "cell_type": "code",
   "execution_count": null,
   "metadata": {},
   "outputs": [],
   "source": []
  },
  {
   "cell_type": "code",
   "execution_count": null,
   "metadata": {},
   "outputs": [],
   "source": []
  },
  {
   "cell_type": "code",
   "execution_count": null,
   "metadata": {},
   "outputs": [],
   "source": []
  },
  {
   "cell_type": "code",
   "execution_count": null,
   "metadata": {},
   "outputs": [],
   "source": []
  },
  {
   "cell_type": "code",
   "execution_count": null,
   "metadata": {},
   "outputs": [],
   "source": []
  },
  {
   "cell_type": "code",
   "execution_count": null,
   "metadata": {},
   "outputs": [],
   "source": []
  },
  {
   "cell_type": "code",
   "execution_count": null,
   "metadata": {},
   "outputs": [],
   "source": []
  },
  {
   "cell_type": "code",
   "execution_count": null,
   "metadata": {},
   "outputs": [],
   "source": []
  },
  {
   "cell_type": "code",
   "execution_count": null,
   "metadata": {},
   "outputs": [],
   "source": []
  },
  {
   "cell_type": "code",
   "execution_count": null,
   "metadata": {},
   "outputs": [],
   "source": []
  },
  {
   "cell_type": "code",
   "execution_count": null,
   "metadata": {},
   "outputs": [],
   "source": []
  },
  {
   "cell_type": "code",
   "execution_count": null,
   "metadata": {},
   "outputs": [],
   "source": []
  },
  {
   "cell_type": "code",
   "execution_count": null,
   "metadata": {},
   "outputs": [],
   "source": []
  },
  {
   "cell_type": "code",
   "execution_count": null,
   "metadata": {},
   "outputs": [],
   "source": []
  },
  {
   "cell_type": "code",
   "execution_count": null,
   "metadata": {},
   "outputs": [],
   "source": []
  },
  {
   "cell_type": "code",
   "execution_count": null,
   "metadata": {},
   "outputs": [],
   "source": []
  },
  {
   "cell_type": "code",
   "execution_count": null,
   "metadata": {},
   "outputs": [],
   "source": []
  }
 ],
 "metadata": {
  "kernelspec": {
   "display_name": "Python 3",
   "language": "python",
   "name": "python3"
  },
  "language_info": {
   "codemirror_mode": {
    "name": "ipython",
    "version": 3
   },
   "file_extension": ".py",
   "mimetype": "text/x-python",
   "name": "python",
   "nbconvert_exporter": "python",
   "pygments_lexer": "ipython3",
   "version": "3.6.5"
  }
 },
 "nbformat": 4,
 "nbformat_minor": 2
}
