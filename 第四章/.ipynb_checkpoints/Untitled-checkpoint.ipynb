{
 "cells": [
  {
   "cell_type": "code",
   "execution_count": 1,
   "metadata": {},
   "outputs": [],
   "source": [
    "import torch as t\n",
    "from torch import nn"
   ]
  },
  {
   "cell_type": "code",
   "execution_count": 9,
   "metadata": {},
   "outputs": [],
   "source": [
    "#神经网络\n",
    "\n",
    "class Linear(nn.Module):\n",
    "    \n",
    "    def __init__(self, in_feartures, out_features):\n",
    "        \n",
    "        super(Linear, self).__init__()\n",
    "        #初始化参数\n",
    "        self.w = nn.Parameter(t.randn(in_feartures, out_features))\n",
    "        self.b = nn.Parameter(t.randn(out_features))\n",
    "        \n",
    "    def forward(self, x):\n",
    "        x =x.mm(self.w)\n",
    "        \n",
    "        return x + self.b.expand_as(x)"
   ]
  },
  {
   "cell_type": "code",
   "execution_count": 11,
   "metadata": {},
   "outputs": [
    {
     "name": "stdout",
     "output_type": "stream",
     "text": [
      "tensor([[ 0.5476,  0.5229,  3.0594, -0.6712],\n",
      "        [ 0.9983, -0.5952,  1.0115,  0.7618]], grad_fn=<AddBackward0>)\n"
     ]
    },
    {
     "data": {
      "text/plain": [
       "True"
      ]
     },
     "execution_count": 11,
     "metadata": {},
     "output_type": "execute_result"
    }
   ],
   "source": [
    "layer = Linear(3, 4)\n",
    "input = t.randn(2, 3)\n",
    "output = layer(input)\n",
    "print(output)\n",
    "output.requires_grad"
   ]
  },
  {
   "cell_type": "code",
   "execution_count": 12,
   "metadata": {},
   "outputs": [
    {
     "name": "stdout",
     "output_type": "stream",
     "text": [
      "name w\n",
      "param Parameter containing:\n",
      "tensor([[ 0.4355, -0.7678, -1.0093,  0.7478],\n",
      "        [-1.2723,  0.9348, -0.3448,  0.7990],\n",
      "        [ 1.4057, -1.6644, -2.7150, -0.0642]], requires_grad=True)\n",
      "name b\n",
      "param Parameter containing:\n",
      "tensor([ 0.4403,  0.2820,  1.9060, -0.0067], requires_grad=True)\n"
     ]
    }
   ],
   "source": [
    "#查看参数\n",
    "for name, param in layer.named_parameters():\n",
    "    print(\"name\", name)\n",
    "    print(\"param\", param)"
   ]
  },
  {
   "cell_type": "code",
   "execution_count": 28,
   "metadata": {},
   "outputs": [],
   "source": [
    "#多层感知机\n",
    "class Percrptron(nn.Module):\n",
    "    \n",
    "    def __init__(self, in_features, hidden_features, out_feartures):\n",
    "        super(Percrptron, self).__init__()\n",
    "        self.layer1 = Linear(in_features, hidden_features)\n",
    "        self.layer2 = Linear(hidden_features, out_feartures)\n",
    "    \n",
    "    def forward(self, x):\n",
    "        x = self.layer1(x)\n",
    "        x = t.sigmoid(x)\n",
    "        \n",
    "        return self.layer2(x)"
   ]
  },
  {
   "cell_type": "code",
   "execution_count": 32,
   "metadata": {},
   "outputs": [
    {
     "name": "stdout",
     "output_type": "stream",
     "text": [
      "layer1.w Parameter containing:\n",
      "tensor([[ 0.2129,  1.1882, -0.7943,  0.1255],\n",
      "        [ 0.6926,  0.1978, -1.7231, -1.2134],\n",
      "        [ 1.6198, -0.9836,  1.0456,  0.9622]], requires_grad=True)\n",
      "layer1.b Parameter containing:\n",
      "tensor([-0.1189,  0.7538, -1.7823,  1.7224], requires_grad=True)\n",
      "layer2.w Parameter containing:\n",
      "tensor([[ 1.0907],\n",
      "        [ 1.6768],\n",
      "        [ 0.6019],\n",
      "        [-0.2851]], requires_grad=True)\n",
      "layer2.b Parameter containing:\n",
      "tensor([-1.1462], requires_grad=True)\n"
     ]
    }
   ],
   "source": [
    "perce = Percrptron(3 , 4, 1)\n",
    "for name, par in perce.named_parameters():\n",
    "    print(name, par)\n",
    "\n",
    "    perce.parameters()"
   ]
  },
  {
   "cell_type": "code",
   "execution_count": null,
   "metadata": {},
   "outputs": [],
   "source": [
    "from PIL import Image\n",
    "from torchvision.transforms import ToTensor,ToPILImage\n",
    "\n",
    "to _tensor = ToTensor()\n",
    "to_image = ToPILImage"
   ]
  },
  {
   "cell_type": "code",
   "execution_count": null,
   "metadata": {},
   "outputs": [],
   "source": []
  },
  {
   "cell_type": "code",
   "execution_count": null,
   "metadata": {},
   "outputs": [],
   "source": []
  },
  {
   "cell_type": "code",
   "execution_count": null,
   "metadata": {},
   "outputs": [],
   "source": []
  },
  {
   "cell_type": "code",
   "execution_count": null,
   "metadata": {},
   "outputs": [],
   "source": []
  },
  {
   "cell_type": "code",
   "execution_count": null,
   "metadata": {},
   "outputs": [],
   "source": []
  },
  {
   "cell_type": "code",
   "execution_count": null,
   "metadata": {},
   "outputs": [],
   "source": []
  },
  {
   "cell_type": "code",
   "execution_count": null,
   "metadata": {},
   "outputs": [],
   "source": []
  },
  {
   "cell_type": "code",
   "execution_count": null,
   "metadata": {},
   "outputs": [],
   "source": []
  },
  {
   "cell_type": "code",
   "execution_count": null,
   "metadata": {},
   "outputs": [],
   "source": []
  },
  {
   "cell_type": "code",
   "execution_count": null,
   "metadata": {},
   "outputs": [],
   "source": []
  },
  {
   "cell_type": "code",
   "execution_count": null,
   "metadata": {},
   "outputs": [],
   "source": []
  },
  {
   "cell_type": "code",
   "execution_count": null,
   "metadata": {},
   "outputs": [],
   "source": []
  },
  {
   "cell_type": "code",
   "execution_count": null,
   "metadata": {},
   "outputs": [],
   "source": []
  },
  {
   "cell_type": "code",
   "execution_count": null,
   "metadata": {},
   "outputs": [],
   "source": []
  },
  {
   "cell_type": "code",
   "execution_count": null,
   "metadata": {},
   "outputs": [],
   "source": []
  },
  {
   "cell_type": "code",
   "execution_count": null,
   "metadata": {},
   "outputs": [],
   "source": []
  },
  {
   "cell_type": "code",
   "execution_count": null,
   "metadata": {},
   "outputs": [],
   "source": [
    "import "
   ]
  }
 ],
 "metadata": {
  "kernelspec": {
   "display_name": "Python 3",
   "language": "python",
   "name": "python3"
  },
  "language_info": {
   "codemirror_mode": {
    "name": "ipython",
    "version": 3
   },
   "file_extension": ".py",
   "mimetype": "text/x-python",
   "name": "python",
   "nbconvert_exporter": "python",
   "pygments_lexer": "ipython3",
   "version": "3.6.5"
  }
 },
 "nbformat": 4,
 "nbformat_minor": 2
}
